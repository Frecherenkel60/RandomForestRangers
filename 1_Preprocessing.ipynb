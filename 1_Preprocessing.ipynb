{
  "cells": [
    {
      "cell_type": "markdown",
      "metadata": {},
      "source": [
        "# Random Forest Rangers - Predicting Car Sales Prices\n",
        "## Preprocessing"
      ]
    },
    {
      "cell_type": "code",
      "execution_count": null,
      "metadata": {
        "vscode": {
          "languageId": "shellscript"
        }
      },
      "outputs": [],
      "source": [
        "# Install dependencies\n",
        "!pip install -q -r requirements.txt"
      ]
    },
    {
      "cell_type": "code",
      "execution_count": null,
      "metadata": {},
      "outputs": [],
      "source": [
        "import re\n",
        "import pandas as pd\n",
        "import numpy as np\n",
        "import matplotlib.pyplot as plt\n",
        "import seaborn as sns\n",
        "from scipy import stats"
      ]
    },
    {
      "cell_type": "code",
      "execution_count": null,
      "metadata": {},
      "outputs": [],
      "source": [
        "train_original = pd.read_csv('data/0_Data_Split/train.csv')\n",
        "train_generated_and_original = pd.read_csv('data/0_Data_Split/train_generated_and_original.csv')\n",
        "test = pd.read_csv('data/0_Data_Split/test.csv')\n",
        "\n",
        "# Array of all the dataframes\n",
        "datasets = [train_original, train_generated_and_original, test]"
      ]
    },
    {
      "cell_type": "markdown",
      "metadata": {},
      "source": [
        "### Ensure consistent data formatting"
      ]
    },
    {
      "cell_type": "code",
      "execution_count": null,
      "metadata": {},
      "outputs": [],
      "source": [
        "# Function to reformat numeric attributes with non-numeric elements such as currency symbols\n",
        "def reformat_non_numeric(text):\n",
        "    if isinstance(text, (float, int)):\n",
        "        return text\n",
        "    return float(re.sub(r'[^\\d.]', '', text))\n",
        "\n",
        "# Function to reformat the clean title column\n",
        "def reformat_clean_title(text):\n",
        "    return 1 if text == 'Yes' else 0\n",
        "\n",
        "# Function to reformat the accident column\n",
        "def reformat_accident(text):\n",
        "    return 0 if text == '' or text == 'None reported' else 1\n",
        "\n",
        "for dataset in datasets:\n",
        "    # Reformat the existing columns\n",
        "    dataset['clean_title'] = dataset['clean_title'].apply(reformat_clean_title)\n",
        "    dataset['price'] = dataset['price'].apply(reformat_non_numeric)\n",
        "    dataset['milage'] = dataset['milage'].apply(reformat_non_numeric)\n",
        "    dataset['accident'] = dataset['accident'].apply(reformat_accident)"
      ]
    },
    {
      "cell_type": "markdown",
      "metadata": {},
      "source": [
        "### Extract additional features"
      ]
    },
    {
      "cell_type": "code",
      "execution_count": null,
      "metadata": {},
      "outputs": [],
      "source": [
        "# Function to extract number of cylinders\n",
        "def extract_cylinders(text):\n",
        "    match = re.search(r'(\\d+)\\s*Cylinder', text, re.IGNORECASE)\n",
        "    return int(match.group(1)) if match else None\n",
        "\n",
        "# Function to extract horsepower\n",
        "def extract_hp(text):\n",
        "    match = re.search(r'(\\d+(?:\\.\\d+)?)\\s*HP', text, re.IGNORECASE)\n",
        "    return float(match.group(1)) if match else None\n",
        "\n",
        "# Function to extract cubic capacity\n",
        "def extract_capacity(text):\n",
        "    match = re.search(r'(\\d+(?:\\.\\d+)?)\\s*L', text, re.IGNORECASE)\n",
        "    return float(match.group(1)) if match else None\n",
        "\n",
        "# Function to extract whether the car has a turbo\n",
        "def extract_turbo(text):\n",
        "    match = re.search(r'Turbo', text, re.IGNORECASE)\n",
        "    return 1 if match else 0\n",
        "\n",
        "# Function to extract gear type\n",
        "def extract_gear_type(text):\n",
        "    match_automatic = re.search(r'Automatic|A/T', text, re.IGNORECASE)\n",
        "    match_manual = re.search(r'Manual|M/T', text, re.IGNORECASE)\n",
        "    return 1 if match_automatic else 0 if match_manual else None\n",
        "\n",
        "# Function to extract the number of gears\n",
        "def extract_gears(text):\n",
        "    match = re.search(r'(\\d+)-Speed\\b', text, re.IGNORECASE)\n",
        "    return int(match.group(1)) if match else None\n",
        "\n",
        "# Function to extract whether the car has dual shift\n",
        "def extract_dual_shift(text):\n",
        "    match = re.search(r'Dual Shift', text, re.IGNORECASE)\n",
        "    return 1 if match else 0\n",
        "\n",
        "# Function to extract whether the car has a monochrome color\n",
        "monochrome = ['Black', 'White', 'Silver', 'Gray']\n",
        "def extract_monochrome_color(text):\n",
        "    for color in monochrome:\n",
        "        match = re.search(color, text, re.IGNORECASE)\n",
        "        if match:\n",
        "            return 1\n",
        "    return 0\n",
        "\n",
        "# Function to check if interior and exterior colors match\n",
        "def extract_color_match(row):\n",
        "    return 1 if row['ext_col'].lower() == row['int_col'].lower() else 0\n",
        "\n",
        "# Function to extract if the car is a hybrid\n",
        "def extract_hybrid(text):\n",
        "    match = re.search(r'Hybrid', text, re.IGNORECASE)\n",
        "    return 1 if match else 0\n",
        "\n",
        "# Function to extract if the car is diesel\n",
        "def extract_diesel(text):\n",
        "    match = re.search(r'Diesel', text, re.IGNORECASE)\n",
        "    return 1 if match else 0\n",
        "\n",
        "# Function to extract if the car is gasolin\n",
        "def extract_gasoline(text):\n",
        "    match = re.search(r'Gasoline', text, re.IGNORECASE)\n",
        "    return 1 if match else 0\n",
        "\n",
        "# Function to extract if the car is electric\n",
        "def extract_electric(text):\n",
        "    match = re.search(r'Electric Motor', text, re.IGNORECASE)\n",
        "    return 1 if match else 0\n",
        "\n",
        "# Function to extract if the car is luxury\n",
        "def extract_luxury(price):\n",
        "    return 1 if price > 100000 else 0\n",
        "    \n",
        "# Function to extract mileage per year\n",
        "def extract_mileage_per_year(row):\n",
        "    vehicle_age = 2024 - row['model_year']\n",
        "    return row['milage'] / max(vehicle_age, 1)\n",
        "\n",
        "for dataset in datasets:\n",
        "    # Apply the extraction functions to create new columns\n",
        "    dataset['cylinders'] = dataset['engine'].astype(str).apply(extract_cylinders)\n",
        "    dataset['horsepower'] = dataset['engine'].astype(str).apply(extract_hp)\n",
        "    dataset['cubic_capacity'] = dataset['engine'].astype(str).apply(extract_capacity)\n",
        "    dataset['turbo'] = dataset['engine'].astype(str).apply(extract_turbo)\n",
        "    dataset['is_automatic'] = dataset['transmission'].astype(str).apply(extract_gear_type)\n",
        "    dataset['gears'] = dataset['transmission'].astype(str).apply(extract_gears)\n",
        "    dataset['dual_shift'] = dataset['transmission'].astype(str).apply(extract_dual_shift)\n",
        "    dataset['ext_col_mon'] = dataset['ext_col'].astype(str).apply(extract_monochrome_color)\n",
        "    dataset['int_col_mon'] = dataset['int_col'].astype(str).apply(extract_monochrome_color)\n",
        "    dataset['color_match'] = dataset.apply(lambda row: extract_color_match(row), axis=1)\n",
        "    dataset['is_hybrid'] = dataset['fuel_type'].astype(str).apply(extract_hybrid)\n",
        "    dataset['is_diesel'] = dataset['fuel_type'].astype(str).apply(extract_diesel)\n",
        "    dataset['is_gasoline'] = dataset['fuel_type'].astype(str).apply(extract_gasoline)\n",
        "    dataset['is_electric'] = dataset['engine'].astype(str).apply(extract_electric)\n",
        "    dataset['is_luxury'] = dataset['price'].apply(extract_luxury)\n",
        "    #dataset['mileage_per_year'] = dataset.apply(lambda row: extract_mileage_per_year(row), axis=1)"
      ]
    },
    {
      "cell_type": "markdown",
      "metadata": {},
      "source": [
        "### Remove outliers"
      ]
    },
    {
      "cell_type": "code",
      "execution_count": null,
      "metadata": {},
      "outputs": [],
      "source": [
        "for i, dataset in enumerate(datasets):\n",
        "    # Calculate the z-scores of the price column\n",
        "    z_scores = stats.zscore(dataset['price'])\n",
        "\n",
        "    print(f\"Remove {len(dataset) - len(dataset[(z_scores < 3)])} outliers from dataset\")\n",
        "    \n",
        "    # Filter the dataset to remove rows where the z-score of the price is greater than 3\n",
        "    dataset = dataset[(z_scores < 3)]\n",
        "\n",
        "    datasets[i] = dataset"
      ]
    },
    {
      "cell_type": "markdown",
      "metadata": {},
      "source": [
        "### Encode categorical features"
      ]
    },
    {
      "cell_type": "code",
      "execution_count": null,
      "metadata": {},
      "outputs": [],
      "source": [
        "for dataset in datasets:\n",
        "    # Calculate the median prices per brand\n",
        "    median_prices = dataset.groupby('brand')['price'].median()\n",
        "\n",
        "    # Sort the brands based on the median prices\n",
        "    sorted_brands = median_prices.sort_values()\n",
        "\n",
        "    # Categorize the brands based on the median prices into 4 bins\n",
        "    brand_bins = pd.qcut(sorted_brands, 4, labels=False)\n",
        "\n",
        "    # Replace the brand names with the bin numbers\n",
        "    dataset.loc[:, 'brand'] = dataset['brand'].map(lambda x: brand_bins[x])"
      ]
    },
    {
      "cell_type": "markdown",
      "metadata": {},
      "source": [
        "### Compute pairwise correlations"
      ]
    },
    {
      "cell_type": "code",
      "execution_count": null,
      "metadata": {},
      "outputs": [],
      "source": [
        "dataset = datasets[0] # Use the original training dataset\n",
        "\n",
        "# Select only numeric columns\n",
        "non_numeric_columns = dataset.select_dtypes(exclude=[np.number]).columns\n",
        "\n",
        "# Drop non-numeric columns\n",
        "dataset = dataset.drop(columns=non_numeric_columns)\n",
        "\n",
        "# Calculate the Spearman correlation matrix\n",
        "spearman_corr = dataset.corr(method='spearman')\n",
        "\n",
        "# Plot the correlation matrix\n",
        "plt.figure(figsize=(16, 10))\n",
        "sns.heatmap(spearman_corr, annot=True, fmt=\".2f\", cmap='coolwarm')"
      ]
    },
    {
      "cell_type": "markdown",
      "metadata": {},
      "source": [
        "High correlations between:\n",
        "- `Model_Year` and `Mileage`\n",
        "- `Cylinders`, `Cubic_Capacity` and `Horsepower`"
      ]
    },
    {
      "cell_type": "markdown",
      "metadata": {},
      "source": [
        "### Handle highly correlated features\n",
        "\n",
        "Correlation between `cubic_capacity`, `horsepower` and `cylinders`."
      ]
    },
    {
      "cell_type": "code",
      "execution_count": null,
      "metadata": {},
      "outputs": [],
      "source": [
        "dataset = datasets[0] # Use the original training dataset\n",
        "\n",
        "# Calculate the number of rows with available values for horsepower, cubic_capacity, and cylinders\n",
        "available_horsepower = dataset['horsepower'].notnull()\n",
        "available_cubic_capacity = dataset['cubic_capacity'].notnull()\n",
        "available_cylinders = dataset['cylinders'].notnull()\n",
        "\n",
        "# Calculate the number of rows with available values\n",
        "all_available = available_horsepower & available_cubic_capacity & available_cylinders\n",
        "two_available = (available_horsepower & available_cubic_capacity & ~available_cylinders) | \\\n",
        "                (available_horsepower & ~available_cubic_capacity & available_cylinders) | \\\n",
        "                (~available_horsepower & available_cubic_capacity & available_cylinders)\n",
        "one_available = (available_horsepower & ~available_cubic_capacity & ~available_cylinders) | \\\n",
        "                        (~available_horsepower & available_cubic_capacity & ~available_cylinders) | \\\n",
        "                        (~available_horsepower & ~available_cubic_capacity & available_cylinders)\n",
        "none_available = ~(available_horsepower | available_cubic_capacity | available_cylinders)\n",
        "\n",
        "# Calculate the number of rows with available values for horsepower, cubic_capacity, and cylinders\n",
        "sum_all_available = all_available.sum()\n",
        "sum_two_available = two_available.sum()\n",
        "sum_one_available = one_available.sum()\n",
        "sum_none_available = none_available.sum()\n",
        "\n",
        "# Calculate the percentage of rows with available values for horsepower, cubic_capacity, and cylinders\n",
        "percentage_all_available = sum_all_available / len(dataset) * 100\n",
        "percentage_two_available = sum_two_available / len(dataset) * 100\n",
        "percentage_one_available = sum_one_available / len(dataset) * 100\n",
        "percentage_none_available = sum_none_available / len(dataset) * 100\n",
        "\n",
        "print(f\"Rows with all available values: {sum_all_available} ({percentage_all_available:.2f}%)\")\n",
        "print(f\"Rows with two available values: {sum_two_available} ({percentage_two_available:.2f}%)\")\n",
        "print(f\"Rows with one available value: {sum_one_available} ({percentage_one_available:.2f}%)\")\n",
        "print(f\"Rows with no available values: {sum_none_available} ({percentage_none_available:.2f}%)\")\n",
        "print(f\"Rows with at least one available value: {sum_all_available + sum_two_available + sum_one_available} ({percentage_all_available + percentage_two_available + percentage_one_available:.2f}%)\")"
      ]
    },
    {
      "cell_type": "code",
      "execution_count": null,
      "metadata": {},
      "outputs": [],
      "source": [
        "from sklearn.impute import SimpleImputer, KNNImputer\n",
        "from sklearn.preprocessing import MinMaxScaler, MaxAbsScaler, StandardScaler, RobustScaler\n",
        "\n",
        "for i, dataset in enumerate(datasets):\n",
        "    # Create a copy of the dataset to avoid SettingWithCopyWarning\n",
        "    dataset = dataset.copy()\n",
        "    \n",
        "    # Step 1: Impute missing values\n",
        "    imputer = KNNImputer(n_neighbors=3)\n",
        "    dataset.loc[:, ['horsepower', 'cubic_capacity', 'cylinders']] = imputer.fit_transform(dataset[['horsepower', 'cubic_capacity', 'cylinders']])\n",
        "\n",
        "    # Step 2: Normalize the features\n",
        "    scaler = RobustScaler()\n",
        "    dataset.loc[:, ['horsepower', 'cubic_capacity', 'cylinders']] = scaler.fit_transform(dataset[['horsepower', 'cubic_capacity', 'cylinders']])\n",
        "\n",
        "    # Step 3: Calculate the synthetic variable\n",
        "    dataset['engine_score'] = dataset[['horsepower', 'cubic_capacity', 'cylinders']].mean(axis=1).round(3)\n",
        "    dataset.loc[dataset[['horsepower', 'cubic_capacity', 'cylinders']].isnull().all(axis=1), 'engine_score'] = 0\n",
        "\n",
        "    datasets[i] = dataset\n",
        "    "
      ]
    },
    {
      "cell_type": "markdown",
      "metadata": {},
      "source": [
        "### Feature selection"
      ]
    },
    {
      "cell_type": "code",
      "execution_count": null,
      "metadata": {},
      "outputs": [],
      "source": [
        "for i, dataset in enumerate(datasets):\n",
        "    # Drop the non-numeric columns\n",
        "    dataset = dataset.drop(columns=dataset.select_dtypes(exclude=[np.number]).columns)\n",
        "\n",
        "    # Filter out highly co-correlated features\n",
        "    dataset = dataset.drop(['cylinders', 'horsepower', 'cubic_capacity'], axis=1)\n",
        "\n",
        "    # Calculate the Spearman correlation\n",
        "    spearman_corr = dataset.corr(method='spearman')\n",
        "\n",
        "    # Drop low correlation columns\n",
        "    dataset = dataset.drop(columns=spearman_corr[spearman_corr['price'].abs() < 0.1].index)\n",
        "\n",
        "    datasets[i] = dataset"
      ]
    },
    {
      "cell_type": "markdown",
      "metadata": {},
      "source": [
        "### Correlation matrix heatmap"
      ]
    },
    {
      "cell_type": "code",
      "execution_count": null,
      "metadata": {},
      "outputs": [],
      "source": [
        "dataset = datasets[0] # Use the original training dataset\n",
        "\n",
        "# Calculate the Spearman correlation\n",
        "spearman_corr = dataset.corr(method='spearman')\n",
        "\n",
        "# Plot the correlation matrix\n",
        "plt.figure(figsize=(16, 10))\n",
        "sns.heatmap(spearman_corr, annot=True, fmt=\".2f\", cmap='coolwarm')"
      ]
    },
    {
      "cell_type": "markdown",
      "metadata": {},
      "source": [
        "### Persist preprocessed data"
      ]
    },
    {
      "cell_type": "code",
      "execution_count": null,
      "metadata": {},
      "outputs": [],
      "source": [
        "# Save the preprocessed dataset\n",
        "datasets[0].to_csv('./data/1_Preprocessing/train.csv', index=False)\n",
        "datasets[1].to_csv('./data/1_Preprocessing/train_generated_and_original.csv', index=False)\n",
        "datasets[2].to_csv('./data/1_Preprocessing/test.csv', index=False)"
      ]
    }
  ],
  "metadata": {
    "kernelspec": {
      "display_name": "randomforestrangers",
      "language": "python",
      "name": "python3"
    },
    "language_info": {
      "codemirror_mode": {
        "name": "ipython",
        "version": 3
      },
      "file_extension": ".py",
      "mimetype": "text/x-python",
      "name": "python",
      "nbconvert_exporter": "python",
      "pygments_lexer": "ipython3",
      "version": "3.12.7"
    }
  },
  "nbformat": 4,
  "nbformat_minor": 2
}
