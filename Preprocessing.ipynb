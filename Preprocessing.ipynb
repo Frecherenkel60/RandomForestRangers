{
 "cells": [
  {
   "cell_type": "markdown",
   "metadata": {},
   "source": [
    "# Random Forest Rangers - Predicting Car Sales Prices\n",
    "## Preprocessing"
   ]
  },
  {
   "cell_type": "code",
   "execution_count": null,
   "metadata": {
    "vscode": {
     "languageId": "shellscript"
    }
   },
   "outputs": [],
   "source": [
    "# Install dependencies\n",
    "!pip install -q -r requirements.txt"
   ]
  },
  {
   "cell_type": "code",
   "execution_count": null,
   "metadata": {},
   "outputs": [],
   "source": [
    "import pandas as pd\n",
    "import numpy as np\n",
    "import matplotlib.pyplot as plt\n",
    "import re\n",
    "import seaborn as sns\n",
    "from sklearn.metrics import mean_squared_error, r2_score\n",
    "from sklearn import preprocessing"
   ]
  },
  {
   "cell_type": "code",
   "execution_count": null,
   "metadata": {},
   "outputs": [],
   "source": [
    "dataset = pd.read_csv('data/Original/full_used_car_prices_original.csv')\n",
    "print(dataset.dtypes)"
   ]
  },
  {
   "cell_type": "markdown",
   "metadata": {},
   "source": [
    "### Ensure consistent data formatting"
   ]
  },
  {
   "cell_type": "code",
   "execution_count": null,
   "metadata": {},
   "outputs": [],
   "source": [
    "dataset = dataset.copy()\n",
    "\n",
    "# Function to reformat numeric attributes with non-numeric elements such as currency symbols\n",
    "def reformat_non_numeric(text):\n",
    "    if isinstance(text, (float, int)):\n",
    "        return text\n",
    "    return float(re.sub(r'[^\\d.]', '', text))\n",
    "\n",
    "# Function to reformat the clean title column\n",
    "def reformat_clean_title(text):\n",
    "    return 1 if text == 'Yes' else 0\n",
    "\n",
    "# Function to reformat the accident column\n",
    "def reformat_accident(text):\n",
    "    return 0 if text == '' or text == 'None reported' else 1\n",
    "\n",
    "# Reformat the existing columns\n",
    "dataset['clean_title'] = dataset['clean_title'].apply(reformat_clean_title)\n",
    "dataset['price'] = dataset['price'].apply(reformat_non_numeric)\n",
    "dataset['milage'] = dataset['milage'].apply(reformat_non_numeric)\n",
    "dataset['accident'] = dataset['accident'].apply(reformat_accident)\n",
    "\n",
    "dataset = dataset.copy()\n",
    "dataset.head(5)"
   ]
  },
  {
   "cell_type": "markdown",
   "metadata": {},
   "source": [
    "### Extract additional features"
   ]
  },
  {
   "cell_type": "code",
   "execution_count": null,
   "metadata": {},
   "outputs": [],
   "source": [
    "dataset = dataset.copy()\n",
    "\n",
    "# Function to extract number of cylinders\n",
    "def extract_cylinders(text):\n",
    "    match = re.search(r'(\\d+)\\s*Cylinder', text, re.IGNORECASE)\n",
    "    return int(match.group(1)) if match else None\n",
    "\n",
    "# Function to extract horsepower\n",
    "def extract_hp(text):\n",
    "    match = re.search(r'(\\d+(?:\\.\\d+)?)\\s*HP', text, re.IGNORECASE)\n",
    "    return float(match.group(1)) if match else None\n",
    "\n",
    "# Function to extract cubic capacity\n",
    "def extract_capacity(text):\n",
    "    match = re.search(r'(\\d+(?:\\.\\d+)?)\\s*L', text, re.IGNORECASE)\n",
    "    return float(match.group(1)) if match else None\n",
    "\n",
    "# Function to extract whether the car has a turbo\n",
    "def extract_turbo(text):\n",
    "    match = re.search(r'Turbo', text, re.IGNORECASE)\n",
    "    return 1 if match else 0\n",
    "\n",
    "# Function to extract gear type\n",
    "def extract_gear_type(text):\n",
    "    match_automatic = re.search(r'Automatic|A/T', text, re.IGNORECASE)\n",
    "    match_manual = re.search(r'Manual|M/T', text, re.IGNORECASE)\n",
    "    return 1 if match_automatic else 0 if match_manual else None\n",
    "\n",
    "# Function to extract the number of gears\n",
    "def extract_gears(text):\n",
    "    match = re.search(r'(\\d+)-Speed\\b', text, re.IGNORECASE)\n",
    "    return int(match.group(1)) if match else None\n",
    "\n",
    "# Function to extract whether the car has dual shift\n",
    "def extract_dual_shift(text):\n",
    "    match = re.search(r'Dual Shift', text, re.IGNORECASE)\n",
    "    return 1 if match else 0\n",
    "\n",
    "# Function to extract whether the car has a monochrome color\n",
    "monochrome = ['Black', 'White', 'Silver', 'Gray']\n",
    "def extract_monochrome_color(text):\n",
    "    for color in monochrome:\n",
    "        match = re.search(color, text, re.IGNORECASE)\n",
    "        if match:\n",
    "            return 1\n",
    "    return 0\n",
    "\n",
    "# Function to check if interior and exterior colors match\n",
    "def extract_color_match(row):\n",
    "    return 1 if row['ext_col'].lower() == row['int_col'].lower() else 0\n",
    "\n",
    "# Function to extract if the car is a hybrid\n",
    "def extract_hybrid(text):\n",
    "    match = re.search(r'Hybrid', text, re.IGNORECASE)\n",
    "    return 1 if match else 0\n",
    "\n",
    "# Function to extract if the car is diesel\n",
    "def extract_diesel(text):\n",
    "    match = re.search(r'Diesel', text, re.IGNORECASE)\n",
    "    return 1 if match else 0\n",
    "\n",
    "# Function to extract if the car is gasolin\n",
    "def extract_gasoline(text):\n",
    "    match = re.search(r'Gasoline', text, re.IGNORECASE)\n",
    "    return 1 if match else 0\n",
    "\n",
    "# Function to extract mileage per year\n",
    "def extract_mileage_per_year(row):\n",
    "    vehicle_age = 2024 - row['model_year']\n",
    "    return row['milage'] / max(vehicle_age, 1)\n",
    "\n",
    "# Apply the extraction functions to create new columns\n",
    "dataset['cylinders'] = dataset['engine'].astype(str).apply(extract_cylinders)\n",
    "dataset['horsepower'] = dataset['engine'].astype(str).apply(extract_hp)\n",
    "dataset['cubic_capacity'] = dataset['engine'].astype(str).apply(extract_capacity)\n",
    "dataset['turbo'] = dataset['engine'].astype(str).apply(extract_turbo)\n",
    "dataset['is_automatic'] = dataset['transmission'].astype(str).apply(extract_gear_type)\n",
    "dataset['gears'] = dataset['transmission'].astype(str).apply(extract_gears)\n",
    "dataset['dual_shift'] = dataset['transmission'].astype(str).apply(extract_dual_shift)\n",
    "dataset['ext_col_mon'] = dataset['ext_col'].astype(str).apply(extract_monochrome_color)\n",
    "dataset['int_col_mon'] = dataset['int_col'].astype(str).apply(extract_monochrome_color)\n",
    "dataset['color_match'] = dataset.apply(lambda row: extract_color_match(row), axis=1)\n",
    "dataset['is_hybrid'] = dataset['fuel_type'].astype(str).apply(extract_hybrid)\n",
    "dataset['is_diesel'] = dataset['fuel_type'].astype(str).apply(extract_diesel)\n",
    "dataset['is_gasoline'] = dataset['fuel_type'].astype(str).apply(extract_gasoline)\n",
    "#dataset['mileage_per_year'] = dataset.apply(lambda row: extract_mileage_per_year(row), axis=1)\n",
    "\n",
    "dataset = dataset.copy()\n",
    "dataset.head(5)"
   ]
  },
  {
   "cell_type": "markdown",
   "metadata": {},
   "source": [
    "### Encode categorical features"
   ]
  },
  {
   "cell_type": "code",
   "execution_count": null,
   "metadata": {
    "vscode": {
     "languageId": "ruby"
    }
   },
   "outputs": [],
   "source": [
    "# Calculate the average sales price for each brand\n",
    "brand_avg_price = dataset.groupby('brand')['price'].mean()\n",
    "\n",
    "# Divide the brands into six quantiles based on their average sales price\n",
    "nQuantiles = 6\n",
    "quantiles = pd.qcut(brand_avg_price, nQuantiles, labels=np.arange(1, nQuantiles+1))\n",
    "\n",
    "# Create a dictionary to map each brand to its quantile value\n",
    "brand_to_quantile = quantiles.to_dict()\n",
    "\n",
    "# Encode the brand feature in the dataset\n",
    "dataset['brand_encoded'] = dataset['brand'].map(brand_to_quantile)\n",
    "\n",
    "dataset.head(5)"
   ]
  },
  {
   "cell_type": "markdown",
   "metadata": {},
   "source": [
    "### Compute pairwise correlations"
   ]
  },
  {
   "cell_type": "code",
   "execution_count": null,
   "metadata": {},
   "outputs": [],
   "source": [
    "# Select only numeric columns\n",
    "non_numeric_columns = dataset.select_dtypes(exclude=[np.number]).columns\n",
    "\n",
    "# Drop non-numeric columns\n",
    "dataset = dataset.drop(columns=non_numeric_columns)\n",
    "\n",
    "# Calculate the Spearman correlation matrix\n",
    "spearman_corr = dataset.corr(method='spearman')\n",
    "\n",
    "# Plot the correlation matrix\n",
    "plt.figure(figsize=(16, 10))\n",
    "sns.heatmap(spearman_corr, annot=True, fmt=\".2f\", cmap='coolwarm')"
   ]
  },
  {
   "cell_type": "markdown",
   "metadata": {},
   "source": [
    "High correlations between:\n",
    "- `Model_Year` and `Mileage`\n",
    "- `Cylinders`, `Cubic_Capacity` and `Horsepower`"
   ]
  },
  {
   "cell_type": "markdown",
   "metadata": {},
   "source": [
    "### Handle highly correlated features\n",
    "\n",
    "Correlation between `cubic_capacity`, `horsepower` and `cylinders`."
   ]
  },
  {
   "cell_type": "code",
   "execution_count": null,
   "metadata": {},
   "outputs": [],
   "source": [
    "# Calculate the number of rows with available values for horsepower, cubic_capacity, and cylinders\n",
    "available_horsepower = dataset['horsepower'].notnull()\n",
    "available_cubic_capacity = dataset['cubic_capacity'].notnull()\n",
    "available_cylinders = dataset['cylinders'].notnull()\n",
    "\n",
    "# Calculate the number of rows with available values\n",
    "all_available = available_horsepower & available_cubic_capacity & available_cylinders\n",
    "two_available = (available_horsepower & available_cubic_capacity & ~available_cylinders) | \\\n",
    "                (available_horsepower & ~available_cubic_capacity & available_cylinders) | \\\n",
    "                (~available_horsepower & available_cubic_capacity & available_cylinders)\n",
    "one_available = (available_horsepower & ~available_cubic_capacity & ~available_cylinders) | \\\n",
    "                        (~available_horsepower & available_cubic_capacity & ~available_cylinders) | \\\n",
    "                        (~available_horsepower & ~available_cubic_capacity & available_cylinders)\n",
    "none_available = ~(available_horsepower | available_cubic_capacity | available_cylinders)\n",
    "\n",
    "# Calculate the number of rows with available values for horsepower, cubic_capacity, and cylinders\n",
    "sum_all_available = all_available.sum()\n",
    "sum_two_available = two_available.sum()\n",
    "sum_one_available = one_available.sum()\n",
    "sum_none_available = none_available.sum()\n",
    "\n",
    "# Calculate the percentage of rows with available values for horsepower, cubic_capacity, and cylinders\n",
    "percentage_all_available = sum_all_available / len(dataset) * 100\n",
    "percentage_two_available = sum_two_available / len(dataset) * 100\n",
    "percentage_one_available = sum_one_available / len(dataset) * 100\n",
    "percentage_none_available = sum_none_available / len(dataset) * 100\n",
    "\n",
    "print(f\"Rows with all available values: {sum_all_available} ({percentage_all_available:.2f}%)\")\n",
    "print(f\"Rows with two available values: {sum_two_available} ({percentage_two_available:.2f}%)\")\n",
    "print(f\"Rows with one available value: {sum_one_available} ({percentage_one_available:.2f}%)\")\n",
    "print(f\"Rows with no available values: {sum_none_available} ({percentage_none_available:.2f}%)\")\n",
    "print(f\"Rows with at least one available value: {sum_all_available + sum_two_available + sum_one_available} ({percentage_all_available + percentage_two_available + percentage_one_available:.2f}%)\")"
   ]
  },
  {
   "cell_type": "code",
   "execution_count": null,
   "metadata": {},
   "outputs": [],
   "source": [
    "from sklearn.impute import SimpleImputer, KNNImputer\n",
    "from sklearn.preprocessing import MinMaxScaler, MaxAbsScaler, StandardScaler, RobustScaler\n",
    "\n",
    "# Step 1: Impute missing values\n",
    "imputer = KNNImputer(n_neighbors=3)\n",
    "dataset[['horsepower', 'cubic_capacity', 'cylinders']] = imputer.fit_transform(dataset[['horsepower', 'cubic_capacity', 'cylinders']])\n",
    "\n",
    "# Step 2: Normalize the features\n",
    "scaler = RobustScaler()\n",
    "dataset[['horsepower', 'cubic_capacity', 'cylinders']] = scaler.fit_transform(dataset[['horsepower', 'cubic_capacity', 'cylinders']])\n",
    "\n",
    "# Step 3: Calculate the synthetic variable\n",
    "dataset['engine_score'] = dataset[['horsepower', 'cubic_capacity', 'cylinders']].mean(axis=1)\n",
    "dataset.loc[dataset[['horsepower', 'cubic_capacity', 'cylinders']].isnull().all(axis=1), 'engine_score'] = 0\n",
    "\n",
    "# Darfst du hier einfach `fit_transform` benutzen?\n",
    "# und hier könnte sich vlt. PCA anbieten, aber auch jetzt schon valides replacement"
   ]
  },
  {
   "cell_type": "markdown",
   "metadata": {},
   "source": [
    "### Correlation matrix heatmap"
   ]
  },
  {
   "cell_type": "code",
   "execution_count": null,
   "metadata": {},
   "outputs": [],
   "source": [
    "# Calculate the Spearman correlation\n",
    "spearman_corr = dataset.corr(method='spearman')\n",
    "\n",
    "# Filter the dataset to keep only the high correlation features\n",
    "high_corr_features = spearman_corr[abs(spearman_corr['price']) >= 0.2].index\n",
    "filtered_dataset = dataset[high_corr_features]\n",
    "\n",
    "# Filter out highly correlated features\n",
    "filtered_dataset = filtered_dataset.drop(['cylinders', 'horsepower', 'cubic_capacity'], axis=1)\n",
    "\n",
    "# Filter out features with high percentage of missing values\n",
    "filtered_dataset = filtered_dataset.drop(['gears'], axis=1)\n",
    "\n",
    "# Calculate the Spearman correlation matrix\n",
    "spearman_corr = filtered_dataset.corr(method='spearman')\n",
    "\n",
    "# Plot the correlation matrix\n",
    "plt.figure(figsize=(16, 10))\n",
    "sns.heatmap(spearman_corr, annot=True, fmt=\".2f\", cmap='coolwarm')\n",
    "\n",
    "dataset = filtered_dataset.copy()"
   ]
  },
  {
   "cell_type": "markdown",
   "metadata": {},
   "source": [
    "### Persist preprocessed data"
   ]
  },
  {
   "cell_type": "code",
   "execution_count": null,
   "metadata": {},
   "outputs": [],
   "source": [
    "# Save the preprocessed dataset\n",
    "dataset.to_csv('./data/used_car_prices_preprocessed.csv', index=False)"
   ]
  }
 ],
 "metadata": {
  "kernelspec": {
   "display_name": "venv",
   "language": "python",
   "name": "python3"
  },
  "language_info": {
   "codemirror_mode": {
    "name": "ipython",
    "version": 3
   },
   "file_extension": ".py",
   "mimetype": "text/x-python",
   "name": "python",
   "nbconvert_exporter": "python",
   "pygments_lexer": "ipython3",
   "version": "3.13.0"
  }
 },
 "nbformat": 4,
 "nbformat_minor": 2
}
